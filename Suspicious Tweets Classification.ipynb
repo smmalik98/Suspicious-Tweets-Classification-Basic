{
 "cells": [
  {
   "cell_type": "code",
   "execution_count": 1,
   "id": "52c31730",
   "metadata": {},
   "outputs": [
    {
     "name": "stdout",
     "output_type": "stream",
     "text": [
      "time: 211 µs (started: 2021-11-15 23:34:05 -06:00)\n"
     ]
    }
   ],
   "source": [
    "import pandas as pd\n",
    "import numpy as np\n",
    "import matplotlib.pyplot as plt\n",
    "import seaborn as sns\n",
    "%load_ext autotime"
   ]
  },
  {
   "cell_type": "code",
   "execution_count": 2,
   "id": "64aa7b54",
   "metadata": {},
   "outputs": [
    {
     "data": {
      "text/html": [
       "<div>\n",
       "<style scoped>\n",
       "    .dataframe tbody tr th:only-of-type {\n",
       "        vertical-align: middle;\n",
       "    }\n",
       "\n",
       "    .dataframe tbody tr th {\n",
       "        vertical-align: top;\n",
       "    }\n",
       "\n",
       "    .dataframe thead th {\n",
       "        text-align: right;\n",
       "    }\n",
       "</style>\n",
       "<table border=\"1\" class=\"dataframe\">\n",
       "  <thead>\n",
       "    <tr style=\"text-align: right;\">\n",
       "      <th></th>\n",
       "      <th>message</th>\n",
       "      <th>label</th>\n",
       "    </tr>\n",
       "  </thead>\n",
       "  <tbody>\n",
       "    <tr>\n",
       "      <th>0</th>\n",
       "      <td>@switchfoot http://twitpic.com/2y1zl - Awww, t...</td>\n",
       "      <td>1</td>\n",
       "    </tr>\n",
       "    <tr>\n",
       "      <th>1</th>\n",
       "      <td>is upset that he can't update his Facebook by ...</td>\n",
       "      <td>1</td>\n",
       "    </tr>\n",
       "    <tr>\n",
       "      <th>2</th>\n",
       "      <td>@Kenichan I dived many times for the ball. Man...</td>\n",
       "      <td>1</td>\n",
       "    </tr>\n",
       "    <tr>\n",
       "      <th>3</th>\n",
       "      <td>my whole body feels itchy and like its on fire</td>\n",
       "      <td>0</td>\n",
       "    </tr>\n",
       "    <tr>\n",
       "      <th>4</th>\n",
       "      <td>@nationwideclass no, it's not behaving at all....</td>\n",
       "      <td>1</td>\n",
       "    </tr>\n",
       "  </tbody>\n",
       "</table>\n",
       "</div>"
      ],
      "text/plain": [
       "                                             message  label\n",
       "0  @switchfoot http://twitpic.com/2y1zl - Awww, t...      1\n",
       "1  is upset that he can't update his Facebook by ...      1\n",
       "2  @Kenichan I dived many times for the ball. Man...      1\n",
       "3    my whole body feels itchy and like its on fire       0\n",
       "4  @nationwideclass no, it's not behaving at all....      1"
      ]
     },
     "execution_count": 2,
     "metadata": {},
     "output_type": "execute_result"
    },
    {
     "name": "stdout",
     "output_type": "stream",
     "text": [
      "time: 69.1 ms (started: 2021-11-15 23:34:05 -06:00)\n"
     ]
    }
   ],
   "source": [
    "data = pd.read_csv('suspicious tweets.csv')\n",
    "data.head()"
   ]
  },
  {
   "cell_type": "code",
   "execution_count": 3,
   "id": "82ca10f6",
   "metadata": {},
   "outputs": [
    {
     "data": {
      "text/html": [
       "<div>\n",
       "<style scoped>\n",
       "    .dataframe tbody tr th:only-of-type {\n",
       "        vertical-align: middle;\n",
       "    }\n",
       "\n",
       "    .dataframe tbody tr th {\n",
       "        vertical-align: top;\n",
       "    }\n",
       "\n",
       "    .dataframe thead tr th {\n",
       "        text-align: left;\n",
       "    }\n",
       "\n",
       "    .dataframe thead tr:last-of-type th {\n",
       "        text-align: right;\n",
       "    }\n",
       "</style>\n",
       "<table border=\"1\" class=\"dataframe\">\n",
       "  <thead>\n",
       "    <tr>\n",
       "      <th></th>\n",
       "      <th colspan=\"4\" halign=\"left\">message</th>\n",
       "    </tr>\n",
       "    <tr>\n",
       "      <th></th>\n",
       "      <th>count</th>\n",
       "      <th>unique</th>\n",
       "      <th>top</th>\n",
       "      <th>freq</th>\n",
       "    </tr>\n",
       "    <tr>\n",
       "      <th>label</th>\n",
       "      <th></th>\n",
       "      <th></th>\n",
       "      <th></th>\n",
       "      <th></th>\n",
       "    </tr>\n",
       "  </thead>\n",
       "  <tbody>\n",
       "    <tr>\n",
       "      <th>0</th>\n",
       "      <td>6145</td>\n",
       "      <td>6133</td>\n",
       "      <td>Something for nothing doesn't exist. What will...</td>\n",
       "      <td>2</td>\n",
       "    </tr>\n",
       "    <tr>\n",
       "      <th>1</th>\n",
       "      <td>53855</td>\n",
       "      <td>53574</td>\n",
       "      <td>@reatlas  Clean Me!</td>\n",
       "      <td>7</td>\n",
       "    </tr>\n",
       "  </tbody>\n",
       "</table>\n",
       "</div>"
      ],
      "text/plain": [
       "      message                                                               \n",
       "        count unique                                                top freq\n",
       "label                                                                       \n",
       "0        6145   6133  Something for nothing doesn't exist. What will...    2\n",
       "1       53855  53574                                @reatlas  Clean Me!    7"
      ]
     },
     "execution_count": 3,
     "metadata": {},
     "output_type": "execute_result"
    },
    {
     "name": "stdout",
     "output_type": "stream",
     "text": [
      "time: 53.4 ms (started: 2021-11-15 23:34:05 -06:00)\n"
     ]
    }
   ],
   "source": [
    "data.groupby('label').describe()"
   ]
  },
  {
   "cell_type": "code",
   "execution_count": 4,
   "id": "07b50463",
   "metadata": {},
   "outputs": [
    {
     "data": {
      "text/plain": [
       "1    53855\n",
       "0     6145\n",
       "Name: label, dtype: int64"
      ]
     },
     "execution_count": 4,
     "metadata": {},
     "output_type": "execute_result"
    },
    {
     "name": "stdout",
     "output_type": "stream",
     "text": [
      "time: 2.48 ms (started: 2021-11-15 23:34:05 -06:00)\n"
     ]
    }
   ],
   "source": [
    "pd.value_counts(data['label'])"
   ]
  },
  {
   "cell_type": "code",
   "execution_count": 5,
   "id": "8a38ccdb",
   "metadata": {},
   "outputs": [
    {
     "data": {
      "image/png": "[encoded data removed]",
      "text/plain": [
       "<Figure size 432x288 with 1 Axes>"
      ]
     },
     "metadata": {},
     "output_type": "display_data"
    },
    {
     "name": "stdout",
     "output_type": "stream",
     "text": [
      "time: 58.5 ms (started: 2021-11-15 23:34:05 -06:00)\n"
     ]
    }
   ],
   "source": [
    "plt.pie(pd.value_counts(data['label']), labels = [0,1], colors = ['blue', 'red'])\n",
    "plt.axis('equal')\n",
    "plt.show()"
   ]
  },
  {
   "cell_type": "code",
   "execution_count": 6,
   "id": "20b75ff8",
   "metadata": {},
   "outputs": [
    {
     "name": "stdout",
     "output_type": "stream",
     "text": [
      "time: 801 ms (started: 2021-11-15 23:34:05 -06:00)\n"
     ]
    }
   ],
   "source": [
    "import re\n",
    "import nltk\n",
    "from nltk.corpus import stopwords\n",
    "\n",
    "def clean_sentence(sent):\n",
    "    sentence = re.sub('<.*?>', ' ', sent) #removing html tags\n",
    "    sentence = re.sub('[^\\w\\s]', ' ', sent) #removing punctutations\n",
    "    sentence = re.sub(r\"\\s+[a-zA-Z]\\s+\", ' ', sent) #removing single character\n",
    "    sentence = re.sub(r'\\s+', ' ', sent) #removing extra spaces\n",
    "    sentence = re.sub('[^a-zA-Z]', ' ', sent) #removing numbers\n",
    "    sentence = sentence.lower() #lower casing the words\n",
    "    stop = stopwords.words('english') #introducing stopwords\n",
    "    sentence = re.sub('[^A-Za-z0-9 ]+', ' ', sent) #removing special characters\n",
    "    sentence = re.sub('(https?:\\/\\/)?([\\da-z\\.-]+)\\.([a-z\\.]{2,6})([\\/\\w \\.-]*)', ' ', sent)\n",
    "    sentence = ' '.join(text.lower() for text in sentence.split(' ')) #sometimes lowercasing doesn't work thus using this\n",
    "    sentence = ' '.join(text for text in sentence.split() if text not in stop) #removing stopwords\n",
    "    sentence = re.sub('\\W+', ' ', sent)\n",
    "    #sentence = ' '.join(text for text in sentence if text.isalnum())\n",
    "    return sentence"
   ]
  },
  {
   "cell_type": "code",
   "execution_count": 7,
   "id": "c2a13349",
   "metadata": {},
   "outputs": [
    {
     "name": "stdout",
     "output_type": "stream",
     "text": [
      "time: 8.38 s (started: 2021-11-15 23:34:06 -06:00)\n"
     ]
    }
   ],
   "source": [
    "data['message'] = data['message'].apply(clean_sentence)"
   ]
  },
  {
   "cell_type": "code",
   "execution_count": 8,
   "id": "1176a6f6",
   "metadata": {},
   "outputs": [
    {
     "data": {
      "text/html": [
       "<div>\n",
       "<style scoped>\n",
       "    .dataframe tbody tr th:only-of-type {\n",
       "        vertical-align: middle;\n",
       "    }\n",
       "\n",
       "    .dataframe tbody tr th {\n",
       "        vertical-align: top;\n",
       "    }\n",
       "\n",
       "    .dataframe thead th {\n",
       "        text-align: right;\n",
       "    }\n",
       "</style>\n",
       "<table border=\"1\" class=\"dataframe\">\n",
       "  <thead>\n",
       "    <tr style=\"text-align: right;\">\n",
       "      <th></th>\n",
       "      <th>message</th>\n",
       "      <th>label</th>\n",
       "    </tr>\n",
       "  </thead>\n",
       "  <tbody>\n",
       "    <tr>\n",
       "      <th>0</th>\n",
       "      <td>switchfoot http twitpic com 2y1zl Awww that s...</td>\n",
       "      <td>1</td>\n",
       "    </tr>\n",
       "    <tr>\n",
       "      <th>1</th>\n",
       "      <td>is upset that he can t update his Facebook by ...</td>\n",
       "      <td>1</td>\n",
       "    </tr>\n",
       "    <tr>\n",
       "      <th>2</th>\n",
       "      <td>Kenichan I dived many times for the ball Mana...</td>\n",
       "      <td>1</td>\n",
       "    </tr>\n",
       "    <tr>\n",
       "      <th>3</th>\n",
       "      <td>my whole body feels itchy and like its on fire</td>\n",
       "      <td>0</td>\n",
       "    </tr>\n",
       "    <tr>\n",
       "      <th>4</th>\n",
       "      <td>nationwideclass no it s not behaving at all i...</td>\n",
       "      <td>1</td>\n",
       "    </tr>\n",
       "  </tbody>\n",
       "</table>\n",
       "</div>"
      ],
      "text/plain": [
       "                                             message  label\n",
       "0   switchfoot http twitpic com 2y1zl Awww that s...      1\n",
       "1  is upset that he can t update his Facebook by ...      1\n",
       "2   Kenichan I dived many times for the ball Mana...      1\n",
       "3    my whole body feels itchy and like its on fire       0\n",
       "4   nationwideclass no it s not behaving at all i...      1"
      ]
     },
     "execution_count": 8,
     "metadata": {},
     "output_type": "execute_result"
    },
    {
     "name": "stdout",
     "output_type": "stream",
     "text": [
      "time: 19.6 ms (started: 2021-11-15 23:34:14 -06:00)\n"
     ]
    }
   ],
   "source": [
    "data.head()"
   ]
  },
  {
   "cell_type": "code",
   "execution_count": 9,
   "id": "459238c1",
   "metadata": {},
   "outputs": [
    {
     "name": "stdout",
     "output_type": "stream",
     "text": [
      "time: 4.99 s (started: 2021-11-15 23:34:14 -06:00)\n"
     ]
    }
   ],
   "source": [
    "from nltk.stem import PorterStemmer\n",
    "from sklearn.feature_extraction.text import CountVectorizer\n",
    "from sklearn.feature_extraction.text import TfidfTransformer\n",
    "\n",
    "data['message'] = data['message'].apply(nltk.word_tokenize) #dividing strings into list of substrings"
   ]
  },
  {
   "cell_type": "code",
   "execution_count": 10,
   "id": "ae0a064a",
   "metadata": {},
   "outputs": [
    {
     "data": {
      "text/html": [
       "<div>\n",
       "<style scoped>\n",
       "    .dataframe tbody tr th:only-of-type {\n",
       "        vertical-align: middle;\n",
       "    }\n",
       "\n",
       "    .dataframe tbody tr th {\n",
       "        vertical-align: top;\n",
       "    }\n",
       "\n",
       "    .dataframe thead th {\n",
       "        text-align: right;\n",
       "    }\n",
       "</style>\n",
       "<table border=\"1\" class=\"dataframe\">\n",
       "  <thead>\n",
       "    <tr style=\"text-align: right;\">\n",
       "      <th></th>\n",
       "      <th>message</th>\n",
       "      <th>label</th>\n",
       "    </tr>\n",
       "  </thead>\n",
       "  <tbody>\n",
       "    <tr>\n",
       "      <th>0</th>\n",
       "      <td>[switchfoot, http, twitpic, com, 2y1zl, Awww, ...</td>\n",
       "      <td>1</td>\n",
       "    </tr>\n",
       "    <tr>\n",
       "      <th>1</th>\n",
       "      <td>[is, upset, that, he, can, t, update, his, Fac...</td>\n",
       "      <td>1</td>\n",
       "    </tr>\n",
       "    <tr>\n",
       "      <th>2</th>\n",
       "      <td>[Kenichan, I, dived, many, times, for, the, ba...</td>\n",
       "      <td>1</td>\n",
       "    </tr>\n",
       "    <tr>\n",
       "      <th>3</th>\n",
       "      <td>[my, whole, body, feels, itchy, and, like, its...</td>\n",
       "      <td>0</td>\n",
       "    </tr>\n",
       "    <tr>\n",
       "      <th>4</th>\n",
       "      <td>[nationwideclass, no, it, s, not, behaving, at...</td>\n",
       "      <td>1</td>\n",
       "    </tr>\n",
       "  </tbody>\n",
       "</table>\n",
       "</div>"
      ],
      "text/plain": [
       "                                             message  label\n",
       "0  [switchfoot, http, twitpic, com, 2y1zl, Awww, ...      1\n",
       "1  [is, upset, that, he, can, t, update, his, Fac...      1\n",
       "2  [Kenichan, I, dived, many, times, for, the, ba...      1\n",
       "3  [my, whole, body, feels, itchy, and, like, its...      0\n",
       "4  [nationwideclass, no, it, s, not, behaving, at...      1"
      ]
     },
     "execution_count": 10,
     "metadata": {},
     "output_type": "execute_result"
    },
    {
     "name": "stdout",
     "output_type": "stream",
     "text": [
      "time: 11.4 ms (started: 2021-11-15 23:34:19 -06:00)\n"
     ]
    }
   ],
   "source": [
    "data.head()"
   ]
  },
  {
   "cell_type": "code",
   "execution_count": 11,
   "id": "945b377a",
   "metadata": {},
   "outputs": [
    {
     "name": "stdout",
     "output_type": "stream",
     "text": [
      "time: 9.77 s (started: 2021-11-15 23:34:19 -06:00)\n"
     ]
    }
   ],
   "source": [
    "stemmer = PorterStemmer() #keeps only th root word\n",
    "data['message'] = data['message'].apply(lambda x: [stemmer.stem(y) for y in x])"
   ]
  },
  {
   "cell_type": "code",
   "execution_count": 12,
   "id": "5578d80e",
   "metadata": {},
   "outputs": [
    {
     "data": {
      "text/html": [
       "<div>\n",
       "<style scoped>\n",
       "    .dataframe tbody tr th:only-of-type {\n",
       "        vertical-align: middle;\n",
       "    }\n",
       "\n",
       "    .dataframe tbody tr th {\n",
       "        vertical-align: top;\n",
       "    }\n",
       "\n",
       "    .dataframe thead th {\n",
       "        text-align: right;\n",
       "    }\n",
       "</style>\n",
       "<table border=\"1\" class=\"dataframe\">\n",
       "  <thead>\n",
       "    <tr style=\"text-align: right;\">\n",
       "      <th></th>\n",
       "      <th>message</th>\n",
       "      <th>label</th>\n",
       "    </tr>\n",
       "  </thead>\n",
       "  <tbody>\n",
       "    <tr>\n",
       "      <th>0</th>\n",
       "      <td>[switchfoot, http, twitpic, com, 2y1zl, awww, ...</td>\n",
       "      <td>1</td>\n",
       "    </tr>\n",
       "    <tr>\n",
       "      <th>1</th>\n",
       "      <td>[is, upset, that, he, can, t, updat, hi, faceb...</td>\n",
       "      <td>1</td>\n",
       "    </tr>\n",
       "    <tr>\n",
       "      <th>2</th>\n",
       "      <td>[kenichan, i, dive, mani, time, for, the, ball...</td>\n",
       "      <td>1</td>\n",
       "    </tr>\n",
       "    <tr>\n",
       "      <th>3</th>\n",
       "      <td>[my, whole, bodi, feel, itchi, and, like, it, ...</td>\n",
       "      <td>0</td>\n",
       "    </tr>\n",
       "    <tr>\n",
       "      <th>4</th>\n",
       "      <td>[nationwideclass, no, it, s, not, behav, at, a...</td>\n",
       "      <td>1</td>\n",
       "    </tr>\n",
       "  </tbody>\n",
       "</table>\n",
       "</div>"
      ],
      "text/plain": [
       "                                             message  label\n",
       "0  [switchfoot, http, twitpic, com, 2y1zl, awww, ...      1\n",
       "1  [is, upset, that, he, can, t, updat, hi, faceb...      1\n",
       "2  [kenichan, i, dive, mani, time, for, the, ball...      1\n",
       "3  [my, whole, bodi, feel, itchi, and, like, it, ...      0\n",
       "4  [nationwideclass, no, it, s, not, behav, at, a...      1"
      ]
     },
     "execution_count": 12,
     "metadata": {},
     "output_type": "execute_result"
    },
    {
     "name": "stdout",
     "output_type": "stream",
     "text": [
      "time: 5.3 ms (started: 2021-11-15 23:34:29 -06:00)\n"
     ]
    }
   ],
   "source": [
    "data.head()"
   ]
  },
  {
   "cell_type": "code",
   "execution_count": 13,
   "id": "76e1437f",
   "metadata": {},
   "outputs": [
    {
     "data": {
      "text/html": [
       "<div>\n",
       "<style scoped>\n",
       "    .dataframe tbody tr th:only-of-type {\n",
       "        vertical-align: middle;\n",
       "    }\n",
       "\n",
       "    .dataframe tbody tr th {\n",
       "        vertical-align: top;\n",
       "    }\n",
       "\n",
       "    .dataframe thead th {\n",
       "        text-align: right;\n",
       "    }\n",
       "</style>\n",
       "<table border=\"1\" class=\"dataframe\">\n",
       "  <thead>\n",
       "    <tr style=\"text-align: right;\">\n",
       "      <th></th>\n",
       "      <th>message</th>\n",
       "      <th>label</th>\n",
       "    </tr>\n",
       "  </thead>\n",
       "  <tbody>\n",
       "    <tr>\n",
       "      <th>0</th>\n",
       "      <td>switchfoot http twitpic com 2y1zl awww that s ...</td>\n",
       "      <td>1</td>\n",
       "    </tr>\n",
       "    <tr>\n",
       "      <th>1</th>\n",
       "      <td>is upset that he can t updat hi facebook by te...</td>\n",
       "      <td>1</td>\n",
       "    </tr>\n",
       "    <tr>\n",
       "      <th>2</th>\n",
       "      <td>kenichan i dive mani time for the ball manag t...</td>\n",
       "      <td>1</td>\n",
       "    </tr>\n",
       "    <tr>\n",
       "      <th>3</th>\n",
       "      <td>my whole bodi feel itchi and like it on fire</td>\n",
       "      <td>0</td>\n",
       "    </tr>\n",
       "    <tr>\n",
       "      <th>4</th>\n",
       "      <td>nationwideclass no it s not behav at all i m m...</td>\n",
       "      <td>1</td>\n",
       "    </tr>\n",
       "  </tbody>\n",
       "</table>\n",
       "</div>"
      ],
      "text/plain": [
       "                                             message  label\n",
       "0  switchfoot http twitpic com 2y1zl awww that s ...      1\n",
       "1  is upset that he can t updat hi facebook by te...      1\n",
       "2  kenichan i dive mani time for the ball manag t...      1\n",
       "3       my whole bodi feel itchi and like it on fire      0\n",
       "4  nationwideclass no it s not behav at all i m m...      1"
      ]
     },
     "execution_count": 13,
     "metadata": {},
     "output_type": "execute_result"
    },
    {
     "name": "stdout",
     "output_type": "stream",
     "text": [
      "time: 865 ms (started: 2021-11-16 16:35:01 -06:00)\n"
     ]
    }
   ],
   "source": [
    "data['message'] = data['message'].apply(lambda x: ' '.join(x)) #removing words from the list\n",
    "data.head()"
   ]
  },
  {
   "cell_type": "code",
   "execution_count": 14,
   "id": "c51e2dd5",
   "metadata": {},
   "outputs": [
    {
     "name": "stdout",
     "output_type": "stream",
     "text": [
      "time: 1.29 s (started: 2021-11-16 16:46:05 -06:00)\n"
     ]
    }
   ],
   "source": [
    "count_vector = CountVectorizer()\n",
    "vectorised = count_vector.fit_transform(data['message']) #convert words to sparse matrix for the model to understand"
   ]
  },
  {
   "cell_type": "code",
   "execution_count": 16,
   "id": "cac17123",
   "metadata": {},
   "outputs": [
    {
     "name": "stdout",
     "output_type": "stream",
     "text": [
      "time: 180 ms (started: 2021-11-16 16:51:03 -06:00)\n"
     ]
    }
   ],
   "source": [
    "transform = TfidfTransformer()\n",
    "vectorised = transform.fit_transform(vectorised) #converting into based on frequency (tf) or normalising \n",
    "#to reduce the effect of frequency (tf-idf) on the model."
   ]
  },
  {
   "cell_type": "code",
   "execution_count": 17,
   "id": "148042f6",
   "metadata": {},
   "outputs": [
    {
     "name": "stdout",
     "output_type": "stream",
     "text": [
      "time: 88 ms (started: 2021-11-16 16:52:42 -06:00)\n"
     ]
    }
   ],
   "source": [
    "#splitting the dataset into 80:20 ratio and shuffling them for random distribution.\n",
    "from sklearn.model_selection import train_test_split\n",
    "X_train, X_test, y_train, y_test = train_test_split(vectorised, data['label'], test_size= 0.2, shuffle=True, \n",
    "                                                    random_state= 40)"
   ]
  },
  {
   "cell_type": "code",
   "execution_count": 23,
   "id": "6021d908",
   "metadata": {},
   "outputs": [
    {
     "name": "stdout",
     "output_type": "stream",
     "text": [
      "Fitting 10 folds for each of 648 candidates, totalling 6480 fits\n"
     ]
    },
    {
     "name": "stderr",
     "output_type": "stream",
     "text": [
      "/opt/anaconda3/lib/python3.8/site-packages/sklearn/model_selection/_search.py:918: UserWarning: One or more of the test scores are non-finite: [       nan 0.56069484 0.56069484 0.56069484 0.56069484 0.56069484\n",
      " 0.56069484 0.56069484 0.56069484        nan 0.56069484 0.56069484\n",
      " 0.56069484 0.56069484 0.56069484 0.56069484 0.56069484 0.56069484\n",
      "        nan 0.56069484 0.56069484 0.56069484 0.56069484 0.56069484\n",
      " 0.56069484 0.56069484 0.56069484        nan 0.56069484 0.56069484\n",
      " 0.56069484 0.56069484 0.56069484 0.56069484 0.56069484 0.56069484\n",
      "        nan 0.60933394 0.60933394 0.60933394 0.60933394 0.60933394\n",
      " 0.60933394 0.60933394 0.60933394        nan 0.60933394 0.60933394\n",
      " 0.60933394 0.60933394 0.60933394 0.60933394 0.60933394 0.60933394\n",
      "        nan 0.6093338  0.6093338  0.6093338  0.6093338  0.6093338\n",
      " 0.6093338  0.6093338  0.6093338         nan 0.60933345 0.60933345\n",
      " 0.60933345 0.60933345 0.60933345 0.60933345 0.60933345 0.60933345\n",
      "        nan 0.63209275 0.63209268 0.63211129 0.6320927  0.63229393\n",
      " 0.63229388 0.6320927  0.63229393        nan 0.63229358 0.63229769\n",
      " 0.63229353 0.6322936  0.63229393 0.63229755 0.63229332 0.63229765\n",
      "        nan 0.6326964  0.63269633 0.63269616 0.63269638 0.6326964\n",
      " 0.63269621 0.63269607 0.63269806        nan 0.63269687 0.63269687\n",
      " 0.63269687 0.63269687 0.63269687 0.63269687 0.63269687 0.63269687\n",
      "        nan 0.64961368 0.64880879 0.65001595 0.65021706 0.65021706\n",
      " 0.65001607 0.64963145 0.65021706        nan 0.65021688 0.65022071\n",
      " 0.65022036 0.65021706 0.6502205  0.65021676 0.65021699 0.65022069\n",
      "        nan 0.65061902 0.65061902 0.65061902 0.6506208  0.65061902\n",
      " 0.65062271 0.6506189  0.65062342        nan 0.65061885 0.65061935\n",
      " 0.6506189  0.65061918 0.65061942 0.65061921 0.65061909 0.6506189\n",
      "        nan 0.66278989 0.66299087 0.66302476 0.66339305 0.66278928\n",
      " 0.66359404 0.6627894  0.66299063        nan 0.66379326 0.66379696\n",
      " 0.66380079 0.66379324 0.66379317 0.66379726 0.66379714 0.66379689\n",
      "        nan 0.66419976 0.66419711 0.66419555 0.6641988  0.66419491\n",
      " 0.6641969  0.6641983  0.66419477        nan 0.66419744 0.66419777\n",
      " 0.66419762 0.66419746 0.66419774 0.6641976  0.6641976  0.66419734\n",
      "        nan 0.67562121 0.67521889 0.67602307 0.67664401 0.6764256\n",
      " 0.67642541 0.67622427 0.67662678        nan 0.67703207 0.67704114\n",
      " 0.67703588 0.67703621 0.6770327  0.67703523 0.67703137 0.67703226\n",
      "        nan 0.6778398  0.67783361 0.67783375 0.67783385 0.67783385\n",
      " 0.67783408 0.67783637 0.6778393         nan 0.67782798 0.67782994\n",
      " 0.67782894 0.67782936 0.67782807 0.67782929 0.67782929 0.67782812\n",
      "        nan 0.691983   0.69075864 0.69256881 0.69236705 0.69199768\n",
      " 0.69278699 0.69276976 0.69297094        nan 0.69337801 0.69338437\n",
      " 0.69318917 0.69339068 0.69339084 0.69339094 0.69339117 0.6933777\n",
      "        nan 0.69418544 0.69418971 0.69418933 0.69418226 0.69418851\n",
      " 0.69418193 0.6941813  0.69418174        nan 0.69417347 0.69417538\n",
      " 0.69417405 0.69417368 0.69417564 0.6941751  0.69417496 0.694174\n",
      "        nan 0.71234895 0.71296801 0.71335445 0.71375689 0.71275046\n",
      " 0.71335459 0.71397375 0.71335409        nan 0.71436507 0.71417779\n",
      " 0.71417082 0.71416463 0.71416376 0.71417042 0.71417678 0.71417618\n",
      "        nan 0.71517209 0.7151764  0.71517119 0.71516888 0.71516874\n",
      " 0.71516652 0.71517098 0.71517537        nan 0.7153363  0.71534614\n",
      " 0.71534701 0.71534841 0.71534832 0.71533887 0.71534846 0.71533632\n",
      "        nan 0.7242093  0.72521536 0.72524746 0.72583474 0.72543259\n",
      " 0.72603597 0.72482911 0.7258176         nan 0.72663607 0.72664278\n",
      " 0.72644192 0.72664415 0.72664327 0.72663476 0.72664299 0.7266338\n",
      "        nan 0.72763612 0.72763023 0.72764381 0.72762745 0.72763014\n",
      " 0.72763234 0.72762939 0.72763313        nan 0.72778709 0.72779387\n",
      " 0.72778791 0.72778746 0.72778716 0.72778737 0.72778746 0.72779417\n",
      "        nan 0.56069484 0.56069484 0.56069484 0.56069484 0.56069484\n",
      " 0.56069484 0.56069484 0.56069484        nan 0.56069484 0.56069484\n",
      " 0.56069484 0.56069484 0.56069484 0.56069484 0.56069484 0.56069484\n",
      "        nan 0.56069484 0.56069484 0.56069484 0.56069484 0.56069484\n",
      " 0.56069484 0.56069484 0.56069484        nan 0.56069484 0.56069484\n",
      " 0.56069484 0.56069484 0.56069484 0.56069484 0.56069484 0.56069484\n",
      "        nan 0.60933394 0.60933394 0.60933394 0.60933394 0.60933394\n",
      " 0.60933394 0.60933394 0.60933394        nan 0.60933394 0.60933394\n",
      " 0.60933394 0.60933394 0.60933394 0.60933394 0.60933394 0.60933394\n",
      "        nan 0.6093338  0.6093338  0.6093338  0.6093338  0.6093338\n",
      " 0.6093338  0.6093338  0.6093338         nan 0.60933345 0.60933345\n",
      " 0.60933345 0.60933345 0.60933345 0.60933345 0.60933345 0.60933345\n",
      "        nan 0.63229388 0.63229393 0.63229388 0.63209275 0.6320927\n",
      " 0.63229393 0.63229388 0.63229388        nan 0.63229372 0.63229372\n",
      " 0.63229372 0.63229377 0.63229377 0.63229377 0.63229372 0.63229377\n",
      "        nan 0.63269591 0.63269579 0.63269595 0.63269581 0.63269577\n",
      " 0.63269591 0.63269579 0.63269591        nan 0.63269443 0.63269443\n",
      " 0.63269443 0.63269443 0.63269443 0.63269443 0.63269443 0.63269443\n",
      "        nan 0.64941217 0.64941217 0.65021671 0.65021671 0.65021671\n",
      " 0.65001553 0.65021671 0.65001562        nan 0.65021893 0.65021517\n",
      " 0.65021517 0.65021517 0.65021517 0.65021893 0.65021893 0.65021517\n",
      "        nan 0.65061902 0.65062264 0.65061902 0.65061902 0.65062335\n",
      " 0.65061902 0.65061902 0.65061902        nan 0.65061689 0.65061717\n",
      " 0.65061717 0.65061675 0.65061675 0.65061684 0.65061708 0.65061703\n",
      "        nan 0.66431099 0.66350637 0.6651292  0.66471036 0.66510949\n",
      " 0.66451205 0.66412937 0.66493198        nan 0.66512517 0.66511788\n",
      " 0.66512153 0.66511877 0.66511376 0.66512026 0.66512036 0.66512389\n",
      "        nan 0.66551281 0.66551676 0.66551927 0.66551679 0.66552301\n",
      " 0.6655169  0.66551516 0.66551265        nan 0.66551064 0.66551101\n",
      " 0.66551078 0.66551106 0.66551096 0.66551328 0.66551078 0.66551082\n",
      "        nan 0.67724499 0.67664164 0.67784826 0.67786906 0.67845191\n",
      " 0.67826478 0.67784202 0.67744288        nan 0.6776628  0.67745576\n",
      " 0.67744893 0.67786386 0.67846716 0.67845367 0.67825979 0.67825339\n",
      "        nan 0.67886041 0.67885921 0.67886156 0.67886174 0.67885356\n",
      " 0.67886035 0.67886144 0.67885895        nan 0.67884542 0.67884507\n",
      " 0.67884493 0.67884556 0.6788454  0.67884528 0.67884545 0.6788453\n",
      "        nan 0.69198915 0.69278631 0.69339359 0.69339654 0.69379191\n",
      " 0.69339697 0.69318807 0.69359692        nan 0.69319721 0.69341114\n",
      " 0.69319691 0.69359941 0.69400751 0.69421543 0.69420882 0.6942083\n",
      "        nan 0.69501197 0.69501057 0.69501373 0.6950117  0.69500714\n",
      " 0.69501714 0.69500549 0.69500388        nan 0.69499932 0.69499908\n",
      " 0.69499838 0.69499843 0.69499859 0.69499948 0.69499803 0.69499805\n",
      "        nan 0.7119474  0.71237722 0.71314871 0.71295169 0.71334636\n",
      " 0.71296822 0.71415189 0.71296871        nan 0.71296671 0.71275496\n",
      " 0.71275169 0.71355225 0.71437408 0.71395998 0.71416473 0.71417298\n",
      "        nan 0.71516861 0.71516039 0.71515939 0.71515441 0.71514825\n",
      " 0.71515517 0.71516331 0.71515572        nan 0.71533691 0.71533745\n",
      " 0.71533544 0.71533509 0.715336   0.71533756 0.71533766 0.71533618\n",
      "        nan 0.72461186 0.72420346 0.72562117 0.72400725 0.72541523\n",
      " 0.72584175 0.72581747 0.72581451        nan 0.72480101 0.72519982\n",
      " 0.72459356 0.72539994 0.72640733 0.72641228 0.72640342 0.72660288\n",
      "        nan 0.72757811 0.72760619 0.72758985 0.72759222 0.72758802\n",
      " 0.72758814 0.72759887 0.72760187        nan 0.72776386 0.72776475\n",
      " 0.72777593 0.72776681 0.72777604 0.72776711 0.72776592 0.72776419]\n",
      "  warnings.warn(\n"
     ]
    },
    {
     "data": {
      "text/plain": [
       "GridSearchCV(cv=10, estimator=DecisionTreeClassifier(), n_jobs=-1,\n",
       "             param_grid={'criterion': ['gini', 'entropy'],\n",
       "                         'max_depth': range(1, 10),\n",
       "                         'min_samples_leaf': range(1, 5),\n",
       "                         'min_samples_split': range(1, 10)},\n",
       "             scoring='roc_auc', verbose=1)"
      ]
     },
     "execution_count": 23,
     "metadata": {},
     "output_type": "execute_result"
    },
    {
     "name": "stdout",
     "output_type": "stream",
     "text": [
      "time: 32min 40s (started: 2021-11-16 17:04:07 -06:00)\n"
     ]
    }
   ],
   "source": [
    "from sklearn.tree import DecisionTreeClassifier\n",
    "from sklearn.model_selection import GridSearchCV\n",
    "from sklearn.metrics import roc_auc_score\n",
    "\n",
    "dt = DecisionTreeClassifier()\n",
    "\n",
    "params = {'criterion': ['gini', 'entropy'],\n",
    "          'max_depth': range(1,10),\n",
    "          'min_samples_split': range(1,10),\n",
    "          'min_samples_leaf': range(1,5)}\n",
    "\n",
    "grid = GridSearchCV(dt, param_grid= params, cv = 10, verbose= 1, n_jobs= -1, scoring= 'roc_auc')\n",
    "\n",
    "grid.fit(X_train, y_train)"
   ]
  },
  {
   "cell_type": "code",
   "execution_count": 24,
   "id": "9e8b5fad",
   "metadata": {},
   "outputs": [
    {
     "data": {
      "text/plain": [
       "0.7277941746894726"
      ]
     },
     "execution_count": 24,
     "metadata": {},
     "output_type": "execute_result"
    },
    {
     "name": "stdout",
     "output_type": "stream",
     "text": [
      "time: 18.1 ms (started: 2021-11-16 18:12:10 -06:00)\n"
     ]
    }
   ],
   "source": [
    "grid.best_score_"
   ]
  },
  {
   "cell_type": "code",
   "execution_count": 26,
   "id": "d437a9dd",
   "metadata": {},
   "outputs": [
    {
     "data": {
      "text/plain": [
       "DecisionTreeClassifier(max_depth=9, min_samples_leaf=4, min_samples_split=9)"
      ]
     },
     "execution_count": 26,
     "metadata": {},
     "output_type": "execute_result"
    },
    {
     "name": "stdout",
     "output_type": "stream",
     "text": [
      "time: 25.4 ms (started: 2021-11-16 18:13:58 -06:00)\n"
     ]
    }
   ],
   "source": [
    "grid.best_estimator_"
   ]
  },
  {
   "cell_type": "code",
   "execution_count": 28,
   "id": "ffb930fd",
   "metadata": {},
   "outputs": [
    {
     "name": "stdout",
     "output_type": "stream",
     "text": [
      "              precision    recall  f1-score   support\n",
      "\n",
      "           0       0.47      0.98      0.63       567\n",
      "           1       1.00      0.95      0.97     11433\n",
      "\n",
      "    accuracy                           0.95     12000\n",
      "   macro avg       0.73      0.96      0.80     12000\n",
      "weighted avg       0.97      0.95      0.96     12000\n",
      "\n",
      "0.734327152337948\n",
      "time: 6.93 s (started: 2021-11-16 18:18:51 -06:00)\n"
     ]
    }
   ],
   "source": [
    "dt_grid = DecisionTreeClassifier(max_depth=9, min_samples_leaf=4, min_samples_split=9).fit(X_train, y_train)\n",
    "\n",
    "dt_pred = dt_grid.predict(X_test)\n",
    "\n",
    "from sklearn.metrics import classification_report, roc_auc_score\n",
    "print(classification_report(dt_pred, y_test))\n",
    "print(roc_auc_score(y_test, dt_grid.predict_proba(X_test)[:,1]))"
   ]
  },
  {
   "cell_type": "code",
   "execution_count": 36,
   "id": "bfab5dfc",
   "metadata": {},
   "outputs": [
    {
     "name": "stdout",
     "output_type": "stream",
     "text": [
      "AxesSubplot(0.125,0.125;0.62x0.755)\n"
     ]
    },
    {
     "data": {
      "image/png": "[encoded data removed]",
      "text/plain": [
       "<Figure size 432x288 with 2 Axes>"
      ]
     },
     "metadata": {
      "needs_background": "light"
     },
     "output_type": "display_data"
    },
    {
     "name": "stdout",
     "output_type": "stream",
     "text": [
      "time: 381 ms (started: 2021-11-16 18:31:47 -06:00)\n"
     ]
    }
   ],
   "source": [
    "from sklearn.metrics import confusion_matrix\n",
    "\n",
    "print(sns.heatmap(confusion_matrix(dt_pred, y_test), annot = True , cmap= 'Greens'))"
   ]
  },
  {
   "cell_type": "code",
   "execution_count": 32,
   "id": "1517eb45",
   "metadata": {},
   "outputs": [
    {
     "data": {
      "image/png": "[encoded data removed]",
      "text/plain": [
       "<Figure size 432x288 with 1 Axes>"
      ]
     },
     "metadata": {
      "needs_background": "light"
     },
     "output_type": "display_data"
    },
    {
     "name": "stdout",
     "output_type": "stream",
     "text": [
      "time: 184 ms (started: 2021-11-16 18:27:28 -06:00)\n"
     ]
    }
   ],
   "source": [
    "from sklearn.metrics import roc_curve\n",
    "\n",
    "fp, tp, threshold = roc_curve(y_test, dt_grid.predict_proba(X_test)[:,1])\n",
    "\n",
    "plt.plot(fp, tp)\n",
    "plt.xlabel(\"False Positives\")\n",
    "plt.ylabel(\"True Positives\")\n",
    "plt.show()"
   ]
  },
  {
   "cell_type": "markdown",
   "id": "2726b32a",
   "metadata": {},
   "source": [
    "Since the Area Under Curve is between 0.5 and 1 we can say that there is a high chance of our model to classify between positive and negative classes."
   ]
  },
  {
   "cell_type": "code",
   "execution_count": null,
   "id": "cc980b4a",
   "metadata": {},
   "outputs": [],
   "source": []
  }
 ],
 "metadata": {
  "kernelspec": {
   "display_name": "Python 3",
   "language": "python",
   "name": "python3"
  },
  "language_info": {
   "codemirror_mode": {
    "name": "ipython",
    "version": 3
   },
   "file_extension": ".py",
   "mimetype": "text/x-python",
   "name": "python",
   "nbconvert_exporter": "python",
   "pygments_lexer": "ipython3",
   "version": "3.8.8"
  }
 },
 "nbformat": 4,
 "nbformat_minor": 5
}
